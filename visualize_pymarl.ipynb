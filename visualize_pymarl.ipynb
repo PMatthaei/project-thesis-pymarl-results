{
  "nbformat": 4,
  "nbformat_minor": 0,
  "metadata": {
    "colab": {
      "name": "visualize_pymarl.ipynb",
      "provenance": [],
      "collapsed_sections": [],
      "include_colab_link": true
    },
    "kernelspec": {
      "name": "python3",
      "display_name": "Python 3"
    }
  },
  "cells": [
    {
      "cell_type": "markdown",
      "metadata": {
        "id": "view-in-github",
        "colab_type": "text"
      },
      "source": [
        "<a href=\"https://colab.research.google.com/github/PMatthaei/pymarl-results/blob/master/visualize_pymarl.ipynb\" target=\"_parent\"><img src=\"https://colab.research.google.com/assets/colab-badge.svg\" alt=\"Open In Colab\"/></a>"
      ]
    },
    {
      "cell_type": "markdown",
      "metadata": {
        "id": "R0E0_LI6Zfvg",
        "colab_type": "text"
      },
      "source": [
        "**Usage:**\n",
        "\n",
        "1.   Each pymarl run returns an info.json holding logged metrics.\n",
        "2.   Each folder represents a experiment and is therefore named after agent and environment(seperated via \"_\"). \n",
        "3.   Running the following f.e. visualizes all combinations of *envs* and *algos* if they exist in the file system aka. in the repository. The following experiments should be plotted: 3m_qmix, 3m_coma, 8m_qmix, 8m_coma \n",
        "```\n",
        "extract_plot_data(algos=['qmix', 'coma'], envs=['3m', '8m'])\n",
        "```\n",
        "\n"
      ]
    },
    {
      "cell_type": "code",
      "metadata": {
        "id": "pLXSAvWsaea0",
        "colab_type": "code",
        "colab": {
          "base_uri": "https://localhost:8080/",
          "height": 97
        },
        "outputId": "ec42520f-4e67-4edf-bd2a-6bef6007dbe3"
      },
      "source": [
        "!git clone https://github.com/PMatthaei/pymarl-results.git"
      ],
      "execution_count": null,
      "outputs": [
        {
          "output_type": "stream",
          "text": [
            "Cloning into 'pymarl-results'...\n",
            "remote: Enumerating objects: 480, done.\u001b[K\n",
            "remote: Counting objects: 100% (480/480), done.\u001b[K\n"
          ],
          "name": "stdout"
        }
      ]
    },
    {
      "cell_type": "code",
      "metadata": {
        "id": "GboppRo7yZUG",
        "colab_type": "code",
        "colab": {}
      },
      "source": [
        "import os\n",
        "import json\n",
        "import numpy as np\n",
        "import matplotlib.pyplot as plt\n",
        "import re\n",
        "\n",
        "from pathlib import Path\n",
        "\n",
        "plot_data = {}\n",
        "metrics = []\n",
        "\n",
        "def extract_plot_data(algos=[], envs=[]):\n",
        "  for path in Path('/content/pymarl-results').rglob('*info*.json'):\n",
        "    label = extract_label(path, algos+envs)\n",
        "\n",
        "    if is_algo(path, algos) and is_env(path, envs):\n",
        "      with open(path) as json_file:\n",
        "          data = json.load(json_file)\n",
        "          for metric in data:\n",
        "            if '_T' not in metric:\n",
        "\n",
        "              if metric not in metrics:\n",
        "                metrics.append(metric)\n",
        "\n",
        "              transposed_identifier = metric+'_T'\n",
        "              xs = data[transposed_identifier]\n",
        "              ys = data[metric]\n",
        "\n",
        "              if metric in plot_data:\n",
        "                plot_data[metric].append((xs, ys, label))\n",
        "              else:\n",
        "                plot_data[metric] = []\n",
        "                plot_data[metric].append((xs, ys, label))\n",
        "\n",
        "def plot():\n",
        "  for metric in metrics:\n",
        "    if metric == 'grad_norm':\n",
        "      continue\n",
        "    for i, data in enumerate(plot_data[metric]):\n",
        "      plt.plot(data[0], data[1], label=data[2])\n",
        "      plt.xlabel('steps')\n",
        "      metric_label = metric.replace('_', ' ')\n",
        "      plt.xlim(right=2000000)\n",
        "      plt.ylabel(metric_label)\n",
        "    plt.legend(loc='best')\n",
        "    plt.show()\n",
        "    plt.savefig(metric+'.png')\n",
        "\n",
        "def is_env(path, envs):\n",
        "  if len(envs) == 0:\n",
        "    return True\n",
        "\n",
        "  return any(env in str(path) for env in envs)\n",
        "\n",
        "def is_algo(path, algos):\n",
        "  if len(algos) == 0:\n",
        "    return True\n",
        "\n",
        "  return any(algo in str(path) for algo in algos)\n",
        "\n",
        "def extract_label(path, search):\n",
        "  return re.search(\".*(results/)(.*)(/source).*\",str(path))[2]\n",
        "\n",
        "\n",
        "extract_plot_data(algos=['qmix', 'qmix_c'], envs=['3m'])\n",
        "plot()"
      ],
      "execution_count": null,
      "outputs": []
    }
  ]
}